{
 "cells": [
  {
   "cell_type": "code",
   "execution_count": 4,
   "id": "a42aec78-b037-4f79-9b51-6863d05fed92",
   "metadata": {},
   "outputs": [],
   "source": [
    "#Practicing Numpy\n",
    "import numpy as np"
   ]
  },
  {
   "cell_type": "code",
   "execution_count": 3,
   "id": "60b5e801-2cda-437b-8f5b-0c77f0cb4800",
   "metadata": {},
   "outputs": [
    {
     "data": {
      "text/plain": [
       "array([[85, 90, 78],\n",
       "       [92, 88, 95],\n",
       "       [76, 95, 85],\n",
       "       [90, 85, 92],\n",
       "       [88, 76, 89]])"
      ]
     },
     "execution_count": 3,
     "metadata": {},
     "output_type": "execute_result"
    }
   ],
   "source": [
    "arr=np.array([[85,90,78], [92,88,95], [76,95,85],[90,85,92],[88,76,89]])\n",
    "arr"
   ]
  },
  {
   "cell_type": "code",
   "execution_count": 12,
   "id": "3a2aaaec-3f42-4f29-891b-64d4f18f8654",
   "metadata": {},
   "outputs": [
    {
     "name": "stdout",
     "output_type": "stream",
     "text": [
      "84.33333333333333\n",
      "91.66666666666667\n",
      "85.33333333333333\n",
      "89.0\n",
      "84.33333333333333\n"
     ]
    }
   ],
   "source": [
    "#Ques1. calculate the mean score of each subject(accross all students)\n",
    "for i in range(0,5): #if we don't know the range, it should be dynamically dependent on the array's start and end point itself\n",
    "    print(np.mean(arr[i]))\n"
   ]
  },
  {
   "cell_type": "code",
   "execution_count": 13,
   "id": "ee995b64-62c8-40a3-9a9b-46637faed3a8",
   "metadata": {},
   "outputs": [
    {
     "name": "stdout",
     "output_type": "stream",
     "text": [
      "85.0\n",
      "92.0\n",
      "85.0\n",
      "90.0\n",
      "88.0\n"
     ]
    }
   ],
   "source": [
    "#Ques2. Find the median score of each student(accross all subjects)\n",
    "for i in range(0,5):\n",
    "    print(np.median(arr[i]))"
   ]
  },
  {
   "cell_type": "code",
   "execution_count": 25,
   "id": "4186a9dc-af54-4e16-8b3b-4b36fed620df",
   "metadata": {},
   "outputs": [
    {
     "name": "stdout",
     "output_type": "stream",
     "text": [
      "[253, 275, 256, 267, 253]\n"
     ]
    },
    {
     "data": {
      "text/plain": [
       "275"
      ]
     },
     "execution_count": 25,
     "metadata": {},
     "output_type": "execute_result"
    }
   ],
   "source": [
    "#Ques3. extract the scores of the student with highest total score(sum of all subjects)\n",
    "L=[]\n",
    "for i in range(0,5):\n",
    "    score=np.sum(arr[i])\n",
    "    L.append(score)\n",
    "print(L)\n",
    "np.max(L)"
   ]
  },
  {
   "cell_type": "code",
   "execution_count": 32,
   "id": "2f9dd0f5-5c1c-43e1-84a7-f50a0b3805c4",
   "metadata": {},
   "outputs": [
    {
     "name": "stdout",
     "output_type": "stream",
     "text": [
      "[92 95 95]\n",
      "[76 76 78]\n"
     ]
    }
   ],
   "source": [
    "#Ques4. Find the min and max scores in each subject\n",
    "print(np.max(arr, axis=0))\n",
    "print(np.min(arr, axis=0))"
   ]
  },
  {
   "cell_type": "code",
   "execution_count": 33,
   "id": "32e994dd-9974-4297-917a-99a553374b20",
   "metadata": {},
   "outputs": [
    {
     "data": {
      "text/plain": [
       "array([[85, 90, 78, 92, 88],\n",
       "       [95, 76, 95, 85, 90],\n",
       "       [85, 92, 88, 76, 89]])"
      ]
     },
     "execution_count": 33,
     "metadata": {},
     "output_type": "execute_result"
    }
   ],
   "source": [
    "#Ques5. Reshape the array to have shape(3,5) {current shape is (5,3)}\n",
    "np.reshape(arr, (3,5))"
   ]
  },
  {
   "cell_type": "code",
   "execution_count": 35,
   "id": "430b2dbc-bb70-42f5-8b66-1fc792951301",
   "metadata": {},
   "outputs": [
    {
     "name": "stdout",
     "output_type": "stream",
     "text": [
      "[[85 90 78]\n",
      " [92 88 95]\n",
      " [76 95 85]\n",
      " [90 85 92]\n",
      " [88 76 89]]\n"
     ]
    },
    {
     "data": {
      "text/plain": [
       "array([[76, 76, 78],\n",
       "       [85, 85, 85],\n",
       "       [88, 88, 89],\n",
       "       [90, 90, 92],\n",
       "       [92, 95, 95]])"
      ]
     },
     "execution_count": 35,
     "metadata": {},
     "output_type": "execute_result"
    }
   ],
   "source": [
    "#Ques6. Sort the scores of each subject in ascending order\n",
    "print(arr)\n",
    "np.sort(arr, axis=0)"
   ]
  },
  {
   "cell_type": "markdown",
   "id": "57c50e78-41e3-46fe-ab59-ea252c4553e1",
   "metadata": {},
   "source": [
    "**Errors**\n",
    "Syntax, compile, run, input/output"
   ]
  }
 ],
 "metadata": {
  "kernelspec": {
   "display_name": "Python 3 (ipykernel)",
   "language": "python",
   "name": "python3"
  },
  "language_info": {
   "codemirror_mode": {
    "name": "ipython",
    "version": 3
   },
   "file_extension": ".py",
   "mimetype": "text/x-python",
   "name": "python",
   "nbconvert_exporter": "python",
   "pygments_lexer": "ipython3",
   "version": "3.11.5"
  }
 },
 "nbformat": 4,
 "nbformat_minor": 5
}
