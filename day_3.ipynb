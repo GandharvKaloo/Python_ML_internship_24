{
 "cells": [
  {
   "cell_type": "code",
   "execution_count": 2,
   "id": "e9600629-f1c7-42ce-8494-52491e4fffe0",
   "metadata": {},
   "outputs": [
    {
     "name": "stdout",
     "output_type": "stream",
     "text": [
      "[0, 1, 2, 3, 4, 5, 6, 7, 8, 9, 10]\n"
     ]
    }
   ],
   "source": [
    "#create a list from 1-10\n",
    "#l1=[]\n",
    "#for i in range(0, 100, 2)\n",
    "\n",
    "\n",
    "\n",
    "#wap to take 10 inputs from user and create a list using those inputs\n",
    "l=[]\n",
    "for i in range(0,11):\n",
    "    l.append(i)\n",
    "print(l)"
   ]
  },
  {
   "cell_type": "code",
   "execution_count": 14,
   "id": "53b65ff3-a769-4574-9c6b-4089329d6f9b",
   "metadata": {},
   "outputs": [
    {
     "name": "stdin",
     "output_type": "stream",
     "text": [
      " 1\n"
     ]
    },
    {
     "name": "stdout",
     "output_type": "stream",
     "text": [
      "['1']\n"
     ]
    },
    {
     "data": {
      "text/plain": [
       "\"\\nExplanation:\\n\\ninput(): This function takes user input as a string.\\n.split(): This method splits the input string into a list of substrings based on whitespace (spaces, tabs, newlines) by default.\\nmap(str, ...): The map function applies the str function to each element of the list created by split(). In this case, it's redundant as the split() already returns a list of strings.\\nlist(...): Converts the output of map into a list. Again, this is unnecessary here as the input to list is already a list.\\nl = ...: Assigns the resulting list to the variable l.\\nprint(l): Prints the list l to the console.\\n\""
      ]
     },
     "execution_count": 14,
     "metadata": {},
     "output_type": "execute_result"
    }
   ],
   "source": [
    "l=list(map(str,input().split(\",\")))\n",
    "#split() func. uses blank space as default \n",
    "print(l)\n",
    "\n",
    "'''\n",
    "Explanation:\n",
    "\n",
    "input(): This function takes user input as a string.\n",
    ".split(): This method splits the input string into a list of substrings based on whitespace (spaces, tabs, newlines) by default.\n",
    "map(str, ...): The map function applies the str function to each element of the list created by split(). In this case, it's redundant as the split() already returns a list of strings.\n",
    "list(...): Converts the output of map into a list. Again, this is unnecessary here as the input to list is already a list.\n",
    "l = ...: Assigns the resulting list to the variable l.\n",
    "print(l): Prints the list l to the console.\n",
    "'''"
   ]
  },
  {
   "cell_type": "code",
   "execution_count": 16,
   "id": "3165d9db-574e-4cd0-8b04-92998c4a985c",
   "metadata": {},
   "outputs": [
    {
     "name": "stdout",
     "output_type": "stream",
     "text": [
      "10\n",
      "20\n",
      "This is function 1 from class A\n"
     ]
    }
   ],
   "source": [
    "#Polymorphism\n",
    "class A:\n",
    "    def __init__(self):\n",
    "        self.a=10\n",
    "        self.b=20\n",
    "    def fun1(self):\n",
    "        print(\"This is function 1 from class A\")\n",
    "\n",
    "\n",
    "class B(A):\n",
    "    def __init__(self):\n",
    "        self.a=11\n",
    "        self.b=22\n",
    "    def fun1(self):\n",
    "        print(\"This is function 1 from class B\")\n",
    "\n",
    "if __name__==\"__main__\":\n",
    "    obj=A()\n",
    "    print(obj.a)\n",
    "    print(obj.b)\n",
    "    obj.fun1()"
   ]
  },
  {
   "cell_type": "code",
   "execution_count": 15,
   "id": "3a2e1576-9109-4cc9-a079-0b12e5cdcefb",
   "metadata": {},
   "outputs": [
    {
     "name": "stdout",
     "output_type": "stream",
     "text": [
      "11\n",
      "22\n",
      "This is function 1 from class B\n"
     ]
    }
   ],
   "source": [
    "class A:\n",
    "    def __init__(self):\n",
    "        self.a=10\n",
    "        self.b=20\n",
    "    def fun1(self):\n",
    "        print(\"This is function 1 from class A\")\n",
    "\n",
    "\n",
    "class B(A):\n",
    "    def __init__(self):\n",
    "        self.a=11\n",
    "        self.b=22\n",
    "    def fun1(self):\n",
    "        print(\"This is function 1 from class B\")\n",
    "\n",
    "if __name__==\"__main__\":\n",
    "    obj=B()\n",
    "    print(obj.a)\n",
    "    print(obj.b)\n",
    "    obj.fun1()\n",
    "    "
   ]
  },
  {
   "cell_type": "code",
   "execution_count": 18,
   "id": "d12edef5-9e85-475d-a196-66bee23c0663",
   "metadata": {},
   "outputs": [
    {
     "name": "stdin",
     "output_type": "stream",
     "text": [
      " 1 2 34\n"
     ]
    },
    {
     "name": "stdout",
     "output_type": "stream",
     "text": [
      "['1', '2', '34']\n"
     ]
    }
   ],
   "source": [
    "l2=list(map(str,input().split()))\n",
    "print(l2)"
   ]
  },
  {
   "cell_type": "code",
   "execution_count": 23,
   "id": "937915a9-4b32-4ad6-85f1-b2a202b91985",
   "metadata": {},
   "outputs": [
    {
     "name": "stdin",
     "output_type": "stream",
     "text": [
      " 1, 2, 3, 1\n"
     ]
    },
    {
     "name": "stdout",
     "output_type": "stream",
     "text": [
      "['1', ' 2', ' 3', ' 1']\n"
     ]
    }
   ],
   "source": [
    "l1=list(map(str,input().split(\",\")))\n",
    "#l2=list(map(input().split(\",\")))\n",
    "print(l1)\n",
    "#print(l2)"
   ]
  },
  {
   "cell_type": "code",
   "execution_count": 24,
   "id": "df3a566f-7bd8-429c-8082-cf467ad73b76",
   "metadata": {},
   "outputs": [
    {
     "name": "stdin",
     "output_type": "stream",
     "text": [
      "Enter the values:  1\n",
      "Enter the values:  2\n",
      "Enter the values:  1\n",
      "Enter the values:  5\n",
      "Enter the values:  77\n"
     ]
    },
    {
     "name": "stdout",
     "output_type": "stream",
     "text": [
      "['1', '2', '1', '5', '77']\n"
     ]
    }
   ],
   "source": [
    "List=[]\n",
    "for i in range(5):\n",
    "    List.append(input(\"Enter the values: \"))\n",
    "print(List)"
   ]
  },
  {
   "cell_type": "code",
   "execution_count": null,
   "id": "f458a833-88b9-47d6-b4e7-feededab22ca",
   "metadata": {},
   "outputs": [],
   "source": []
  }
 ],
 "metadata": {
  "kernelspec": {
   "display_name": "Python 3 (ipykernel)",
   "language": "python",
   "name": "python3"
  },
  "language_info": {
   "codemirror_mode": {
    "name": "ipython",
    "version": 3
   },
   "file_extension": ".py",
   "mimetype": "text/x-python",
   "name": "python",
   "nbconvert_exporter": "python",
   "pygments_lexer": "ipython3",
   "version": "3.11.5"
  }
 },
 "nbformat": 4,
 "nbformat_minor": 5
}
