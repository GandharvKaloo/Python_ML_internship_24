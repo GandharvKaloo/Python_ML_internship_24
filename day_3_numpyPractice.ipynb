{
 "cells": [
  {
   "cell_type": "code",
   "execution_count": 1,
   "id": "83ce8074-937b-42a9-9706-aa332b4057d1",
   "metadata": {},
   "outputs": [],
   "source": [
    "import numpy as np"
   ]
  },
  {
   "cell_type": "code",
   "execution_count": 54,
   "id": "e9a3d901-215a-4804-bda9-2d3a8e96e676",
   "metadata": {},
   "outputs": [
    {
     "data": {
      "text/plain": [
       "array([1, 2, 3, 4, 5, 6, 7, 8, 9])"
      ]
     },
     "execution_count": 54,
     "metadata": {},
     "output_type": "execute_result"
    }
   ],
   "source": [
    "arr = np.array([1, 2, 3, 4, 5,6,7,8,9])\n",
    "arr"
   ]
  },
  {
   "cell_type": "markdown",
   "id": "ddd6a56f-037f-47b6-8db9-d4d2af4a62dd",
   "metadata": {},
   "source": [
    "Zero\n",
    "Ones\n",
    "arange\n",
    "random.rand\n",
    "linspace\n",
    "array\n",
    "empty"
   ]
  },
  {
   "cell_type": "code",
   "execution_count": 5,
   "id": "1491d04b-b07c-4a2a-b4b3-fd5f2c90ce3c",
   "metadata": {},
   "outputs": [],
   "source": [
    "Z=np.zeros(5)"
   ]
  },
  {
   "cell_type": "code",
   "execution_count": 6,
   "id": "b82155b8-0292-4e39-855b-a030cee01514",
   "metadata": {},
   "outputs": [
    {
     "data": {
      "text/plain": [
       "array([0., 0., 0., 0., 0.])"
      ]
     },
     "execution_count": 6,
     "metadata": {},
     "output_type": "execute_result"
    }
   ],
   "source": [
    "Z"
   ]
  },
  {
   "cell_type": "code",
   "execution_count": 8,
   "id": "da75d348-fd61-4f4e-82a0-ccc32d428e36",
   "metadata": {},
   "outputs": [
    {
     "data": {
      "text/plain": [
       "array([1., 1., 1., 1., 1.])"
      ]
     },
     "execution_count": 8,
     "metadata": {},
     "output_type": "execute_result"
    }
   ],
   "source": [
    "Z=np.ones(5)\n",
    "Z"
   ]
  },
  {
   "cell_type": "code",
   "execution_count": 9,
   "id": "761adb1b-5196-4565-b855-e76c1f7d20bc",
   "metadata": {},
   "outputs": [
    {
     "data": {
      "text/plain": [
       "array([0, 2, 4, 6, 8])"
      ]
     },
     "execution_count": 9,
     "metadata": {},
     "output_type": "execute_result"
    }
   ],
   "source": [
    "A=np.arange(0,10,2)\n",
    "A"
   ]
  },
  {
   "cell_type": "code",
   "execution_count": 10,
   "id": "b2d8c88c-09c1-4c22-8eea-02dc859cec24",
   "metadata": {},
   "outputs": [
    {
     "data": {
      "text/plain": [
       "array([0.22198109, 0.15852578, 0.37102378, 0.64587973, 0.78950139])"
      ]
     },
     "execution_count": 10,
     "metadata": {},
     "output_type": "execute_result"
    }
   ],
   "source": [
    "arr=np.random.rand(5) #It always gives random numbers from 0 to 1\n",
    "arr"
   ]
  },
  {
   "cell_type": "code",
   "execution_count": 11,
   "id": "cca4311c-3cab-454f-a722-62bc58521f77",
   "metadata": {},
   "outputs": [
    {
     "data": {
      "text/plain": [
       "array([  0.        ,  11.11111111,  22.22222222,  33.33333333,\n",
       "        44.44444444,  55.55555556,  66.66666667,  77.77777778,\n",
       "        88.88888889, 100.        ])"
      ]
     },
     "execution_count": 11,
     "metadata": {},
     "output_type": "execute_result"
    }
   ],
   "source": [
    "ln=np.linspace(0,100,10)\n",
    "ln"
   ]
  },
  {
   "cell_type": "code",
   "execution_count": 14,
   "id": "c4da6abd-850e-4f78-94bf-ac2e40e43f70",
   "metadata": {},
   "outputs": [
    {
     "data": {
      "text/plain": [
       "array([6.23042070e-307, 4.67296746e-307, 1.69121096e-306, 1.33511018e-306,\n",
       "       1.89146896e-307, 7.56571288e-307, 5.18689447e+180])"
      ]
     },
     "execution_count": 14,
     "metadata": {},
     "output_type": "execute_result"
    }
   ],
   "source": [
    "e=np.empty(7)\n",
    "e"
   ]
  },
  {
   "cell_type": "markdown",
   "id": "574c54c3-8de9-4aef-a165-8ad220028073",
   "metadata": {},
   "source": [
    "**2D arrays**"
   ]
  },
  {
   "cell_type": "code",
   "execution_count": 15,
   "id": "acb8bc76-612b-4aee-af3b-462294c53476",
   "metadata": {},
   "outputs": [
    {
     "data": {
      "text/plain": [
       "array([[1, 2, 3],\n",
       "       [4, 5, 6],\n",
       "       [7, 8, 9]])"
      ]
     },
     "execution_count": 15,
     "metadata": {},
     "output_type": "execute_result"
    }
   ],
   "source": [
    "arr2=np.array([[1,2,3], [4,5,6], [7,8,9]])\n",
    "arr2"
   ]
  },
  {
   "cell_type": "code",
   "execution_count": 17,
   "id": "0ebb56ec-b67a-4d28-9b99-2185adc9acf4",
   "metadata": {},
   "outputs": [
    {
     "data": {
      "text/plain": [
       "array([[0., 0., 0., 0., 0.],\n",
       "       [0., 0., 0., 0., 0.],\n",
       "       [0., 0., 0., 0., 0.],\n",
       "       [0., 0., 0., 0., 0.],\n",
       "       [0., 0., 0., 0., 0.]])"
      ]
     },
     "execution_count": 17,
     "metadata": {},
     "output_type": "execute_result"
    }
   ],
   "source": [
    "Z=np.zeros([5,5])\n",
    "Z"
   ]
  },
  {
   "cell_type": "code",
   "execution_count": 18,
   "id": "ed5de1f9-2c85-4c02-bea9-b8c61597d37e",
   "metadata": {},
   "outputs": [
    {
     "data": {
      "text/plain": [
       "array([[1., 1., 1., 1., 1.],\n",
       "       [1., 1., 1., 1., 1.],\n",
       "       [1., 1., 1., 1., 1.],\n",
       "       [1., 1., 1., 1., 1.],\n",
       "       [1., 1., 1., 1., 1.]])"
      ]
     },
     "execution_count": 18,
     "metadata": {},
     "output_type": "execute_result"
    }
   ],
   "source": [
    "O=np.ones([5,5])\n",
    "O"
   ]
  },
  {
   "cell_type": "code",
   "execution_count": 22,
   "id": "a4ee8b34-cc4d-449d-a729-d1c9168a842a",
   "metadata": {},
   "outputs": [
    {
     "data": {
      "text/plain": [
       "array([[1., 0., 0., 0., 0.],\n",
       "       [0., 1., 0., 0., 0.],\n",
       "       [0., 0., 1., 0., 0.],\n",
       "       [0., 0., 0., 1., 0.],\n",
       "       [0., 0., 0., 0., 1.]])"
      ]
     },
     "execution_count": 22,
     "metadata": {},
     "output_type": "execute_result"
    }
   ],
   "source": [
    "I=np.eye(5)\n",
    "I"
   ]
  },
  {
   "cell_type": "code",
   "execution_count": 30,
   "id": "765cdc89-6eb1-4d8d-8cd2-a8a471cdb754",
   "metadata": {},
   "outputs": [
    {
     "data": {
      "text/plain": [
       "array([[0.89269776, 0.33472765, 0.74722302, 0.711665  , 0.60491037],\n",
       "       [0.26140497, 0.76256585, 0.3371426 , 0.69484947, 0.81708264],\n",
       "       [0.89542464, 0.06248076, 0.09664609, 0.49373117, 0.91242352],\n",
       "       [0.2506801 , 0.87528658, 0.69399766, 0.48624786, 0.34377204],\n",
       "       [0.84122833, 0.09532397, 0.93235746, 0.82070521, 0.07145925]])"
      ]
     },
     "execution_count": 30,
     "metadata": {},
     "output_type": "execute_result"
    }
   ],
   "source": [
    "x=np.random.rand(5,5)\n",
    "x"
   ]
  },
  {
   "cell_type": "code",
   "execution_count": 29,
   "id": "164ca075-a4da-42b4-b7e7-74928e1fd732",
   "metadata": {},
   "outputs": [
    {
     "data": {
      "text/plain": [
       "array([[[0.84725782, 0.56759851, 0.22493168, 0.71768946, 0.08151456],\n",
       "        [0.37067062, 0.40908759, 0.68946177, 0.57942343, 0.76121656],\n",
       "        [0.49640169, 0.76497656, 0.44893943, 0.32948461, 0.86765361],\n",
       "        [0.73541297, 0.81186366, 0.6748234 , 0.77650403, 0.0037183 ],\n",
       "        [0.69162107, 0.13613084, 0.69488857, 0.67323002, 0.97597505]],\n",
       "\n",
       "       [[0.72395391, 0.02949728, 0.3469247 , 0.80660834, 0.82863058],\n",
       "        [0.74265017, 0.57333055, 0.93543833, 0.75829739, 0.53679001],\n",
       "        [0.0929009 , 0.83272738, 0.7173916 , 0.42269857, 0.51621382],\n",
       "        [0.38008511, 0.80053874, 0.81816985, 0.43415947, 0.17932782],\n",
       "        [0.41473598, 0.90615824, 0.54059299, 0.6919891 , 0.12107045]],\n",
       "\n",
       "       [[0.86130399, 0.34455084, 0.83298452, 0.45109901, 0.78917746],\n",
       "        [0.73373382, 0.79715861, 0.95880977, 0.29537142, 0.43157602],\n",
       "        [0.43743882, 0.48821886, 0.37206365, 0.79558913, 0.58806802],\n",
       "        [0.55884965, 0.34451916, 0.07757183, 0.98014206, 0.95543109],\n",
       "        [0.95949356, 0.81773178, 0.34894513, 0.39994868, 0.39807617]],\n",
       "\n",
       "       [[0.85398197, 0.59097152, 0.30152   , 0.67712937, 0.14795542],\n",
       "        [0.54914389, 0.74194199, 0.35738642, 0.12240588, 0.7675499 ],\n",
       "        [0.46973466, 0.584164  , 0.6615277 , 0.85513304, 0.76301667],\n",
       "        [0.33381768, 0.45941725, 0.78887665, 0.81577487, 0.58352763],\n",
       "        [0.99242039, 0.95118783, 0.49709318, 0.07778037, 0.29445372]],\n",
       "\n",
       "       [[0.21513294, 0.50836582, 0.60798792, 0.30763644, 0.19042574],\n",
       "        [0.30506958, 0.56201719, 0.28870173, 0.70289351, 0.02930293],\n",
       "        [0.86112344, 0.96290356, 0.83462007, 0.10858197, 0.33754639],\n",
       "        [0.56374644, 0.43011639, 0.57599575, 0.45536949, 0.57124262],\n",
       "        [0.48923549, 0.44025422, 0.38374365, 0.76045762, 0.15676521]]])"
      ]
     },
     "execution_count": 29,
     "metadata": {},
     "output_type": "execute_result"
    }
   ],
   "source": [
    "x=np.random.rand(5,5,5)\n",
    "x"
   ]
  },
  {
   "cell_type": "code",
   "execution_count": 31,
   "id": "d0473809-5f68-4bf8-91bb-3f3508e4d737",
   "metadata": {},
   "outputs": [
    {
     "data": {
      "text/plain": [
       "array([0.22198109, 0.15852578, 0.37102378, 0.64587973, 0.78950139])"
      ]
     },
     "execution_count": 31,
     "metadata": {},
     "output_type": "execute_result"
    }
   ],
   "source": [
    "arr"
   ]
  },
  {
   "cell_type": "code",
   "execution_count": 32,
   "id": "5da73846-7440-4bee-b3db-1a84a0d16afd",
   "metadata": {},
   "outputs": [
    {
     "data": {
      "text/plain": [
       "array([[1, 2, 3],\n",
       "       [4, 5, 6],\n",
       "       [7, 8, 9]])"
      ]
     },
     "execution_count": 32,
     "metadata": {},
     "output_type": "execute_result"
    }
   ],
   "source": [
    "arr2"
   ]
  },
  {
   "cell_type": "markdown",
   "id": "5d667966-fd57-4276-ab09-90518ed098c4",
   "metadata": {},
   "source": [
    "Size, shape, dtype"
   ]
  },
  {
   "cell_type": "code",
   "execution_count": 33,
   "id": "f45bbf0e-407b-41e9-b63e-2923c7ee5d11",
   "metadata": {},
   "outputs": [
    {
     "name": "stdout",
     "output_type": "stream",
     "text": [
      "5\n"
     ]
    }
   ],
   "source": [
    "print(arr.size)"
   ]
  },
  {
   "cell_type": "code",
   "execution_count": 34,
   "id": "c042f8d0-d3d3-4ab4-8bef-65be91fd4a56",
   "metadata": {},
   "outputs": [
    {
     "name": "stdout",
     "output_type": "stream",
     "text": [
      "9\n"
     ]
    }
   ],
   "source": [
    "print(arr2.size)"
   ]
  },
  {
   "cell_type": "code",
   "execution_count": 35,
   "id": "ffba217e-5e75-41ef-a1bc-7f7ee8a3227a",
   "metadata": {},
   "outputs": [
    {
     "name": "stdout",
     "output_type": "stream",
     "text": [
      "(5,)\n"
     ]
    }
   ],
   "source": [
    "print(arr.shape)"
   ]
  },
  {
   "cell_type": "code",
   "execution_count": 36,
   "id": "d2f2c119-907c-4ee4-a037-2dd525736973",
   "metadata": {},
   "outputs": [
    {
     "name": "stdout",
     "output_type": "stream",
     "text": [
      "(3, 3)\n"
     ]
    }
   ],
   "source": [
    "print(arr2.shape)"
   ]
  },
  {
   "cell_type": "markdown",
   "id": "c689385b-5a1d-4cf6-9347-2b8765853351",
   "metadata": {},
   "source": [
    "**Operations in Array**\n",
    "copy\n",
    "sort\n",
    "reshape"
   ]
  },
  {
   "cell_type": "code",
   "execution_count": 38,
   "id": "e2e2c144-2f59-4930-b482-46f426ecb69b",
   "metadata": {},
   "outputs": [
    {
     "data": {
      "text/plain": [
       "array([[1, 2, 3],\n",
       "       [4, 5, 6],\n",
       "       [7, 8, 9]])"
      ]
     },
     "execution_count": 38,
     "metadata": {},
     "output_type": "execute_result"
    }
   ],
   "source": [
    "arr3=np.copy(arr2)\n",
    "arr3"
   ]
  },
  {
   "cell_type": "code",
   "execution_count": 40,
   "id": "c689f3f2-423b-4517-ace4-73b2069e1414",
   "metadata": {},
   "outputs": [
    {
     "data": {
      "text/plain": [
       "array([[ 1,  2,  3],\n",
       "       [ 4,  5,  6],\n",
       "       [ 7,  8, 10]])"
      ]
     },
     "execution_count": 40,
     "metadata": {},
     "output_type": "execute_result"
    }
   ],
   "source": [
    "arr3[2,2]=10\n",
    "arr3"
   ]
  },
  {
   "cell_type": "code",
   "execution_count": 42,
   "id": "9c549780-9d87-49b9-857f-2592fa830c55",
   "metadata": {},
   "outputs": [
    {
     "data": {
      "text/plain": [
       "array([[ 1,  2,  3],\n",
       "       [ 4,  5, 12],\n",
       "       [ 7, 15, 10]])"
      ]
     },
     "execution_count": 42,
     "metadata": {},
     "output_type": "execute_result"
    }
   ],
   "source": [
    "arr3[1,2]=12\n",
    "arr3[2,1]=15\n",
    "arr3"
   ]
  },
  {
   "cell_type": "code",
   "execution_count": 43,
   "id": "95865ea8-16b0-4456-b30e-e6dae716980f",
   "metadata": {},
   "outputs": [
    {
     "data": {
      "text/plain": [
       "array([[ 1,  2,  3],\n",
       "       [ 4,  5, 12],\n",
       "       [ 7, 10, 15]])"
      ]
     },
     "execution_count": 43,
     "metadata": {},
     "output_type": "execute_result"
    }
   ],
   "source": [
    "arr3=np.sort(arr3)\n",
    "arr3"
   ]
  },
  {
   "cell_type": "code",
   "execution_count": 44,
   "id": "b240ab9d-9be1-4175-83cf-aab6b8066d3e",
   "metadata": {},
   "outputs": [
    {
     "data": {
      "text/plain": [
       "array([[ 1,  2,  3],\n",
       "       [ 4,  5, 12],\n",
       "       [ 7, 10, 15]])"
      ]
     },
     "execution_count": 44,
     "metadata": {},
     "output_type": "execute_result"
    }
   ],
   "source": [
    "arr3=np.sort(arr3, axis=0)\n",
    "arr3"
   ]
  },
  {
   "cell_type": "markdown",
   "id": "d392dee9-3c28-4dfb-8823-dd2171d0ed96",
   "metadata": {},
   "source": [
    "axis 0 --> downwards, vertical\n",
    "axis 1 --> left to right, horizantal"
   ]
  },
  {
   "cell_type": "code",
   "execution_count": 46,
   "id": "f9abad8f-8cb7-4363-88c8-4fd9daeb6187",
   "metadata": {},
   "outputs": [
    {
     "data": {
      "text/plain": [
       "array([0.22198109, 0.15852578, 0.37102378, 0.64587973, 0.78950139])"
      ]
     },
     "execution_count": 46,
     "metadata": {},
     "output_type": "execute_result"
    }
   ],
   "source": [
    "arr"
   ]
  },
  {
   "cell_type": "code",
   "execution_count": 47,
   "id": "ee54291c-3499-458e-bae7-7f46bb306e9c",
   "metadata": {},
   "outputs": [
    {
     "data": {
      "text/plain": [
       "array([ 0.22198109,  0.15852578,  0.37102378,  0.64587973,  0.78950139,\n",
       "       10.        ])"
      ]
     },
     "execution_count": 47,
     "metadata": {},
     "output_type": "execute_result"
    }
   ],
   "source": [
    "np.append(arr, 10)"
   ]
  },
  {
   "cell_type": "code",
   "execution_count": 49,
   "id": "264731ca-7a96-4e76-92b7-b0c3db41d153",
   "metadata": {},
   "outputs": [
    {
     "data": {
      "text/plain": [
       "array([ 0.22198109,  0.15852578,  0.37102378,  0.64587973,  0.78950139,\n",
       "       10.        , 10.        ])"
      ]
     },
     "execution_count": 49,
     "metadata": {},
     "output_type": "execute_result"
    }
   ],
   "source": [
    "arr=np.append(arr,10)\n",
    "arr"
   ]
  },
  {
   "cell_type": "code",
   "execution_count": 50,
   "id": "00267085-588c-46e5-b5e2-12e1590055b5",
   "metadata": {},
   "outputs": [
    {
     "data": {
      "text/plain": [
       "array([ 0.22198109,  0.15852578,  0.37102378,  0.64587973,  0.78950139,\n",
       "       10.        ])"
      ]
     },
     "execution_count": 50,
     "metadata": {},
     "output_type": "execute_result"
    }
   ],
   "source": [
    "arr=np.delete(arr,6,axis=0)\n",
    "arr"
   ]
  },
  {
   "cell_type": "code",
   "execution_count": 53,
   "id": "082f3f08-c1a1-460b-b2b7-c1619eb97d1b",
   "metadata": {},
   "outputs": [
    {
     "data": {
      "text/plain": [
       "array([1, 2, 3, 4, 5, 6, 7, 8, 9], dtype=int16)"
      ]
     },
     "execution_count": 53,
     "metadata": {},
     "output_type": "execute_result"
    }
   ],
   "source": [
    "arr"
   ]
  },
  {
   "cell_type": "code",
   "execution_count": 55,
   "id": "117c0852-78a5-4b5c-bfd3-c5ca88f0f8a4",
   "metadata": {},
   "outputs": [
    {
     "data": {
      "text/plain": [
       "array([ 1,  2,  3,  4,  5,  6,  7,  8,  9, 10])"
      ]
     },
     "execution_count": 55,
     "metadata": {},
     "output_type": "execute_result"
    }
   ],
   "source": [
    "arr=np.append(arr,10)\n",
    "arr"
   ]
  },
  {
   "cell_type": "code",
   "execution_count": 56,
   "id": "b95e0bd7-55a7-45f6-82f9-8d23262bb5ff",
   "metadata": {},
   "outputs": [
    {
     "data": {
      "text/plain": [
       "array([ 1,  2,  3,  4,  5,  6,  8,  9, 10])"
      ]
     },
     "execution_count": 56,
     "metadata": {},
     "output_type": "execute_result"
    }
   ],
   "source": [
    "arr=np.delete(arr,6,axis=0)\n",
    "arr"
   ]
  },
  {
   "cell_type": "code",
   "execution_count": 57,
   "id": "8084d1fd-cb93-469f-a7ec-6b89033ac726",
   "metadata": {},
   "outputs": [
    {
     "data": {
      "text/plain": [
       "array([[1, 2, 3],\n",
       "       [4, 5, 6],\n",
       "       [7, 8, 9]])"
      ]
     },
     "execution_count": 57,
     "metadata": {},
     "output_type": "execute_result"
    }
   ],
   "source": [
    "arr2"
   ]
  },
  {
   "cell_type": "code",
   "execution_count": 58,
   "id": "97e92bd7-50b0-434c-a4cb-c88a0df178f3",
   "metadata": {},
   "outputs": [
    {
     "data": {
      "text/plain": [
       "array([[ 1,  2,  3],\n",
       "       [ 4,  5, 12],\n",
       "       [ 7, 10, 15]])"
      ]
     },
     "execution_count": 58,
     "metadata": {},
     "output_type": "execute_result"
    }
   ],
   "source": [
    "arr3"
   ]
  },
  {
   "cell_type": "code",
   "execution_count": 60,
   "id": "b4d36864-ac13-4d50-bee8-faf3174fa021",
   "metadata": {},
   "outputs": [
    {
     "data": {
      "text/plain": [
       "array([[ 1,  2,  3],\n",
       "       [ 4,  5,  6],\n",
       "       [ 7,  8,  9],\n",
       "       [ 1,  2,  3],\n",
       "       [ 4,  5, 12],\n",
       "       [ 7, 10, 15]])"
      ]
     },
     "execution_count": 60,
     "metadata": {},
     "output_type": "execute_result"
    }
   ],
   "source": [
    "arr4=np.concatenate((arr2, arr3), axis=0)\n",
    "arr4"
   ]
  },
  {
   "cell_type": "code",
   "execution_count": 62,
   "id": "edb862c2-61ec-4b0e-a91d-8a0ba058f42b",
   "metadata": {},
   "outputs": [
    {
     "data": {
      "text/plain": [
       "array([[ 1,  2,  3,  1,  2,  3],\n",
       "       [ 4,  5,  6,  4,  5, 12],\n",
       "       [ 7,  8,  9,  7, 10, 15]])"
      ]
     },
     "execution_count": 62,
     "metadata": {},
     "output_type": "execute_result"
    }
   ],
   "source": [
    "arr5=np.concatenate((arr2, arr3), axis=1)\n",
    "arr5"
   ]
  },
  {
   "cell_type": "code",
   "execution_count": 64,
   "id": "5f55db23-24a7-49a8-95e0-28e718f9da25",
   "metadata": {},
   "outputs": [
    {
     "data": {
      "text/plain": [
       "[array([[1, 2, 3, 1, 2, 3]]),\n",
       " array([[ 4,  5,  6,  4,  5, 12]]),\n",
       " array([[ 7,  8,  9,  7, 10, 15]])]"
      ]
     },
     "execution_count": 64,
     "metadata": {},
     "output_type": "execute_result"
    }
   ],
   "source": [
    "arr6=np.split(arr4, 3)\n",
    "arr6"
   ]
  },
  {
   "cell_type": "code",
   "execution_count": 65,
   "id": "66a0a4f6-9ccd-4d05-b217-1411f48b6c4d",
   "metadata": {},
   "outputs": [
    {
     "data": {
      "text/plain": [
       "array([[1, 2, 3, 1, 2, 3]])"
      ]
     },
     "execution_count": 65,
     "metadata": {},
     "output_type": "execute_result"
    }
   ],
   "source": [
    "arr6[0]"
   ]
  },
  {
   "cell_type": "code",
   "execution_count": 67,
   "id": "3dc4cc71-2ea6-449c-b882-e2fe475c60e7",
   "metadata": {},
   "outputs": [
    {
     "data": {
      "text/plain": [
       "array([[ 4,  5,  6,  4,  5, 12]])"
      ]
     },
     "execution_count": 67,
     "metadata": {},
     "output_type": "execute_result"
    }
   ],
   "source": [
    "arr6[1]"
   ]
  },
  {
   "cell_type": "code",
   "execution_count": 68,
   "id": "8b78b14d-3831-4fca-bc2d-916b51cb3e6a",
   "metadata": {},
   "outputs": [
    {
     "data": {
      "text/plain": [
       "array([[ 7,  8,  9,  7, 10, 15]])"
      ]
     },
     "execution_count": 68,
     "metadata": {},
     "output_type": "execute_result"
    }
   ],
   "source": [
    "arr6[2]"
   ]
  },
  {
   "cell_type": "markdown",
   "id": "382f54be-afaa-48ae-ace9-b14d87c33ed6",
   "metadata": {},
   "source": [
    "**Scalar Expressions**\n",
    "add\n",
    "subtract\n",
    "multiply\n",
    "divide\n",
    "power"
   ]
  },
  {
   "cell_type": "code",
   "execution_count": 69,
   "id": "a573e28a-6684-4503-8cc9-db31fa68466c",
   "metadata": {},
   "outputs": [
    {
     "data": {
      "text/plain": [
       "array([[ 1,  2,  3,  1,  2,  3],\n",
       "       [ 4,  5,  6,  4,  5, 12],\n",
       "       [ 7,  8,  9,  7, 10, 15]])"
      ]
     },
     "execution_count": 69,
     "metadata": {},
     "output_type": "execute_result"
    }
   ],
   "source": [
    "arr5"
   ]
  },
  {
   "cell_type": "code",
   "execution_count": 70,
   "id": "7b80009c-8a94-426c-8d9d-799f3cb3ab46",
   "metadata": {},
   "outputs": [
    {
     "data": {
      "text/plain": [
       "array([[ 2,  3,  4,  2,  3,  4],\n",
       "       [ 5,  6,  7,  5,  6, 13],\n",
       "       [ 8,  9, 10,  8, 11, 16]])"
      ]
     },
     "execution_count": 70,
     "metadata": {},
     "output_type": "execute_result"
    }
   ],
   "source": [
    "np.add(arr5,1)"
   ]
  },
  {
   "cell_type": "code",
   "execution_count": 72,
   "id": "9d7c3682-d552-481b-a920-50793eb43336",
   "metadata": {},
   "outputs": [
    {
     "data": {
      "text/plain": [
       "array([[ 0,  1,  2,  0,  1,  2],\n",
       "       [ 3,  4,  5,  3,  4, 11],\n",
       "       [ 6,  7,  8,  6,  9, 14]])"
      ]
     },
     "execution_count": 72,
     "metadata": {},
     "output_type": "execute_result"
    }
   ],
   "source": [
    "np.subtract(arr5,1)"
   ]
  },
  {
   "cell_type": "code",
   "execution_count": 74,
   "id": "8b7fcde3-0528-4c0d-bdd2-a6698b3e016e",
   "metadata": {},
   "outputs": [
    {
     "data": {
      "text/plain": [
       "array([[ 5, 10, 15,  5, 10, 15],\n",
       "       [20, 25, 30, 20, 25, 60],\n",
       "       [35, 40, 45, 35, 50, 75]])"
      ]
     },
     "execution_count": 74,
     "metadata": {},
     "output_type": "execute_result"
    }
   ],
   "source": [
    "np.multiply(arr5,5)"
   ]
  },
  {
   "cell_type": "code",
   "execution_count": 75,
   "id": "472ffe03-f85c-4524-a708-5b610e290e7d",
   "metadata": {},
   "outputs": [
    {
     "data": {
      "text/plain": [
       "array([[0.5, 1. , 1.5, 0.5, 1. , 1.5],\n",
       "       [2. , 2.5, 3. , 2. , 2.5, 6. ],\n",
       "       [3.5, 4. , 4.5, 3.5, 5. , 7.5]])"
      ]
     },
     "execution_count": 75,
     "metadata": {},
     "output_type": "execute_result"
    }
   ],
   "source": [
    "np.divide(arr5,2)"
   ]
  },
  {
   "cell_type": "code",
   "execution_count": 76,
   "id": "7bd6621e-5c43-4488-9e57-e182f4746305",
   "metadata": {},
   "outputs": [
    {
     "data": {
      "text/plain": [
       "array([[   1,    8,   27,    1,    8,   27],\n",
       "       [  64,  125,  216,   64,  125, 1728],\n",
       "       [ 343,  512,  729,  343, 1000, 3375]], dtype=int32)"
      ]
     },
     "execution_count": 76,
     "metadata": {},
     "output_type": "execute_result"
    }
   ],
   "source": [
    "np.power(arr5,3)"
   ]
  },
  {
   "cell_type": "markdown",
   "id": "00a118ef-cdd4-4c88-8f72-f69b025add69",
   "metadata": {},
   "source": [
    "**Vector Expressions**"
   ]
  },
  {
   "cell_type": "code",
   "execution_count": 78,
   "id": "0b8a927e-13ac-4979-b44e-d01c0c1ebd54",
   "metadata": {},
   "outputs": [
    {
     "data": {
      "text/plain": [
       "[array([[1, 2, 3, 1, 2, 3]]),\n",
       " array([[ 4,  5,  6,  4,  5, 12]]),\n",
       " array([[ 7,  8,  9,  7, 10, 15]])]"
      ]
     },
     "execution_count": 78,
     "metadata": {},
     "output_type": "execute_result"
    }
   ],
   "source": [
    "arr6"
   ]
  },
  {
   "cell_type": "code",
   "execution_count": 80,
   "id": "d0e096d6-8c6f-4ac3-b1c3-0798023580bc",
   "metadata": {},
   "outputs": [
    {
     "data": {
      "text/plain": [
       "array([[ 5,  7,  9,  5,  7, 15]])"
      ]
     },
     "execution_count": 80,
     "metadata": {},
     "output_type": "execute_result"
    }
   ],
   "source": [
    "arr7=np.add(arr6[0], arr6[1])\n",
    "arr7"
   ]
  },
  {
   "cell_type": "code",
   "execution_count": 81,
   "id": "ff2973d8-9b3b-47af-a09d-4cb1a53b5491",
   "metadata": {},
   "outputs": [
    {
     "data": {
      "text/plain": [
       "array([[-3, -3, -3, -3, -3, -9]])"
      ]
     },
     "execution_count": 81,
     "metadata": {},
     "output_type": "execute_result"
    }
   ],
   "source": [
    "arr7=np.subtract(arr6[0], arr6[1])\n",
    "arr7"
   ]
  },
  {
   "cell_type": "code",
   "execution_count": 82,
   "id": "d26ef1fa-60b9-4e9a-8f80-fe40a1899240",
   "metadata": {},
   "outputs": [
    {
     "data": {
      "text/plain": [
       "array([[ 4, 10, 18,  4, 10, 36]])"
      ]
     },
     "execution_count": 82,
     "metadata": {},
     "output_type": "execute_result"
    }
   ],
   "source": [
    "arr7=np.multiply(arr6[0], arr6[1])\n",
    "arr7"
   ]
  },
  {
   "cell_type": "code",
   "execution_count": 83,
   "id": "df803e2c-6401-42c3-9906-dad8dc16e591",
   "metadata": {},
   "outputs": [
    {
     "data": {
      "text/plain": [
       "array([[0.25, 0.4 , 0.5 , 0.25, 0.4 , 0.25]])"
      ]
     },
     "execution_count": 83,
     "metadata": {},
     "output_type": "execute_result"
    }
   ],
   "source": [
    "arr7=np.divide(arr6[0], arr6[1])\n",
    "arr7"
   ]
  },
  {
   "cell_type": "code",
   "execution_count": 84,
   "id": "c954b8bd-63ca-4085-b374-3f48f59730fb",
   "metadata": {},
   "outputs": [
    {
     "data": {
      "text/plain": [
       "array([[1., 1., 1., 1., 1., 1.]])"
      ]
     },
     "execution_count": 84,
     "metadata": {},
     "output_type": "execute_result"
    }
   ],
   "source": [
    "np.ceil(arr7)"
   ]
  },
  {
   "cell_type": "code",
   "execution_count": 85,
   "id": "25fac3c7-e9c8-4c51-8ebe-cd5d16fccd94",
   "metadata": {},
   "outputs": [
    {
     "data": {
      "text/plain": [
       "array([[0., 0., 0., 0., 0., 0.]])"
      ]
     },
     "execution_count": 85,
     "metadata": {},
     "output_type": "execute_result"
    }
   ],
   "source": [
    "np.floor(arr7)"
   ]
  },
  {
   "cell_type": "code",
   "execution_count": 86,
   "id": "75dac24a-f6c0-4a24-b541-e61468e5761d",
   "metadata": {},
   "outputs": [
    {
     "data": {
      "text/plain": [
       "array([[0., 0., 0., 0., 0., 0.]])"
      ]
     },
     "execution_count": 86,
     "metadata": {},
     "output_type": "execute_result"
    }
   ],
   "source": [
    "np.round(arr7)"
   ]
  },
  {
   "cell_type": "markdown",
   "id": "c15b5431-92ac-41be-a7a7-e147e005334c",
   "metadata": {},
   "source": [
    "**Statistics**"
   ]
  },
  {
   "cell_type": "code",
   "execution_count": 87,
   "id": "03680269-a8a6-4ed1-9761-dafc8ffd13c7",
   "metadata": {},
   "outputs": [
    {
     "data": {
      "text/plain": [
       "5.777777777777778"
      ]
     },
     "execution_count": 87,
     "metadata": {},
     "output_type": "execute_result"
    }
   ],
   "source": [
    "np.mean(arr5)"
   ]
  },
  {
   "cell_type": "code",
   "execution_count": 88,
   "id": "7ba8656e-3315-4bcf-b774-15b7e6c78e7d",
   "metadata": {},
   "outputs": [
    {
     "data": {
      "text/plain": [
       "array([ 4.        ,  5.        ,  6.        ,  4.        ,  5.66666667,\n",
       "       10.        ])"
      ]
     },
     "execution_count": 88,
     "metadata": {},
     "output_type": "execute_result"
    }
   ],
   "source": [
    "np.mean(arr5, axis=0)"
   ]
  },
  {
   "cell_type": "code",
   "execution_count": 89,
   "id": "d4e74657-412d-4b2e-b40c-4cfdc55c5583",
   "metadata": {},
   "outputs": [
    {
     "data": {
      "text/plain": [
       "array([2.        , 6.        , 9.33333333])"
      ]
     },
     "execution_count": 89,
     "metadata": {},
     "output_type": "execute_result"
    }
   ],
   "source": [
    "np.mean(arr5, axis=1)"
   ]
  },
  {
   "cell_type": "code",
   "execution_count": 90,
   "id": "9e235ad5-4b06-4562-b531-4c9152c479e4",
   "metadata": {},
   "outputs": [
    {
     "data": {
      "text/plain": [
       "5.0"
      ]
     },
     "execution_count": 90,
     "metadata": {},
     "output_type": "execute_result"
    }
   ],
   "source": [
    "np.median(arr5)"
   ]
  },
  {
   "cell_type": "code",
   "execution_count": 91,
   "id": "b1cefb4d-947d-41e0-938b-c2e32f71d19b",
   "metadata": {},
   "outputs": [
    {
     "data": {
      "text/plain": [
       "array([ 4.        ,  5.        ,  6.        ,  4.        ,  5.66666667,\n",
       "       10.        ])"
      ]
     },
     "execution_count": 91,
     "metadata": {},
     "output_type": "execute_result"
    }
   ],
   "source": [
    "np.median(arr5, axis=0)"
   ]
  },
  {
   "cell_type": "code",
   "execution_count": 92,
   "id": "b055646a-b755-4234-959b-5da4cff0cbc8",
   "metadata": {},
   "outputs": [
    {
     "data": {
      "text/plain": [
       "array([2.        , 6.        , 9.33333333])"
      ]
     },
     "execution_count": 92,
     "metadata": {},
     "output_type": "execute_result"
    }
   ],
   "source": [
    "np.median(arr5, axis=1)"
   ]
  },
  {
   "cell_type": "code",
   "execution_count": 94,
   "id": "69e3e6a6-7440-41be-a7dc-0cced8c91074",
   "metadata": {},
   "outputs": [
    {
     "data": {
      "text/plain": [
       "1"
      ]
     },
     "execution_count": 94,
     "metadata": {},
     "output_type": "execute_result"
    }
   ],
   "source": [
    "np.min(arr5)"
   ]
  },
  {
   "cell_type": "code",
   "execution_count": 95,
   "id": "d009d5e3-a351-48e5-aa8a-8af48e00306a",
   "metadata": {},
   "outputs": [
    {
     "data": {
      "text/plain": [
       "array([1, 4, 7])"
      ]
     },
     "execution_count": 95,
     "metadata": {},
     "output_type": "execute_result"
    }
   ],
   "source": [
    "np.min(arr5, axis=1)"
   ]
  },
  {
   "cell_type": "code",
   "execution_count": 96,
   "id": "5963e081-28fe-4900-946a-5bca70d3bf24",
   "metadata": {},
   "outputs": [
    {
     "data": {
      "text/plain": [
       "15"
      ]
     },
     "execution_count": 96,
     "metadata": {},
     "output_type": "execute_result"
    }
   ],
   "source": [
    "np.max(arr5)"
   ]
  },
  {
   "cell_type": "code",
   "execution_count": 97,
   "id": "1702db82-64f3-4edb-950c-b727d41206e9",
   "metadata": {},
   "outputs": [
    {
     "data": {
      "text/plain": [
       "array([ 3, 12, 15])"
      ]
     },
     "execution_count": 97,
     "metadata": {},
     "output_type": "execute_result"
    }
   ],
   "source": [
    "np.max(arr5, axis=1)"
   ]
  },
  {
   "cell_type": "code",
   "execution_count": 101,
   "id": "238d28ef-75d5-471d-a59d-cc8b183e6009",
   "metadata": {},
   "outputs": [
    {
     "data": {
      "text/plain": [
       "array([1, 2, 3, 4, 5, 6, 7, 8, 9])"
      ]
     },
     "execution_count": 101,
     "metadata": {},
     "output_type": "execute_result"
    }
   ],
   "source": [
    "arr8=np.array([1,2,3,4,5,6,7,8,9])\n",
    "arr8"
   ]
  },
  {
   "cell_type": "code",
   "execution_count": 102,
   "id": "f05cd978-7768-45b2-9352-26aef45f3eca",
   "metadata": {},
   "outputs": [
    {
     "data": {
      "text/plain": [
       "8"
      ]
     },
     "execution_count": 102,
     "metadata": {},
     "output_type": "execute_result"
    }
   ],
   "source": [
    "np.argmax(arr8)"
   ]
  },
  {
   "cell_type": "code",
   "execution_count": 103,
   "id": "60fd140f-6621-4b88-9ae3-6869d36ac702",
   "metadata": {},
   "outputs": [
    {
     "data": {
      "text/plain": [
       "0"
      ]
     },
     "execution_count": 103,
     "metadata": {},
     "output_type": "execute_result"
    }
   ],
   "source": [
    "np.argmin(arr8)"
   ]
  },
  {
   "cell_type": "code",
   "execution_count": 104,
   "id": "b9fdd381-bfc6-4268-87a0-ea97f3ff226f",
   "metadata": {},
   "outputs": [
    {
     "data": {
      "text/plain": [
       "array([0, 1, 2, 3, 4, 5, 6, 7, 8], dtype=int64)"
      ]
     },
     "execution_count": 104,
     "metadata": {},
     "output_type": "execute_result"
    }
   ],
   "source": [
    "np.argsort(arr8)"
   ]
  },
  {
   "cell_type": "code",
   "execution_count": 105,
   "id": "55f0337f-3515-4f9b-878c-07e1088aa447",
   "metadata": {},
   "outputs": [
    {
     "data": {
      "text/plain": [
       "array([ 0.84147098,  0.90929743,  0.14112001, -0.7568025 , -0.95892427,\n",
       "       -0.2794155 ,  0.6569866 ,  0.98935825,  0.41211849])"
      ]
     },
     "execution_count": 105,
     "metadata": {},
     "output_type": "execute_result"
    }
   ],
   "source": [
    "np.sin(arr8)"
   ]
  },
  {
   "cell_type": "code",
   "execution_count": 106,
   "id": "4793b454-eaf4-464b-b9fd-4d3ee19b6518",
   "metadata": {},
   "outputs": [
    {
     "data": {
      "text/plain": [
       "0.8414709848078965"
      ]
     },
     "execution_count": 106,
     "metadata": {},
     "output_type": "execute_result"
    }
   ],
   "source": [
    "np.sin(arr8[0])"
   ]
  },
  {
   "cell_type": "code",
   "execution_count": 107,
   "id": "c55b4f5b-3687-4541-8588-7744ee174394",
   "metadata": {},
   "outputs": [
    {
     "data": {
      "text/plain": [
       "array([0.        , 0.69314718, 1.09861229, 1.38629436, 1.60943791,\n",
       "       1.79175947, 1.94591015, 2.07944154, 2.19722458])"
      ]
     },
     "execution_count": 107,
     "metadata": {},
     "output_type": "execute_result"
    }
   ],
   "source": [
    "np.log(arr8)"
   ]
  },
  {
   "cell_type": "code",
   "execution_count": 108,
   "id": "647ccc93-4ddd-4baf-a5bc-ad6b07ab1b0f",
   "metadata": {},
   "outputs": [
    {
     "data": {
      "text/plain": [
       "0.6931471805599453"
      ]
     },
     "execution_count": 108,
     "metadata": {},
     "output_type": "execute_result"
    }
   ],
   "source": [
    "np.log(arr8[1])"
   ]
  },
  {
   "cell_type": "code",
   "execution_count": null,
   "id": "2d45477d-7114-4f0d-b469-380ace6dfc9e",
   "metadata": {},
   "outputs": [],
   "source": []
  }
 ],
 "metadata": {
  "kernelspec": {
   "display_name": "Python 3 (ipykernel)",
   "language": "python",
   "name": "python3"
  },
  "language_info": {
   "codemirror_mode": {
    "name": "ipython",
    "version": 3
   },
   "file_extension": ".py",
   "mimetype": "text/x-python",
   "name": "python",
   "nbconvert_exporter": "python",
   "pygments_lexer": "ipython3",
   "version": "3.11.5"
  }
 },
 "nbformat": 4,
 "nbformat_minor": 5
}
