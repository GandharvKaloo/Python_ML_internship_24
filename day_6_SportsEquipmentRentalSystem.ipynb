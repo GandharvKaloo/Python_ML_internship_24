{
 "cells": [
  {
   "cell_type": "code",
   "execution_count": 10,
   "id": "57b80fe5-cecc-4bb4-8754-23eaac825019",
   "metadata": {},
   "outputs": [
    {
     "ename": "NameError",
     "evalue": "name 'Eid' is not defined",
     "output_type": "error",
     "traceback": [
      "\u001b[1;31m---------------------------------------------------------------------------\u001b[0m",
      "\u001b[1;31mNameError\u001b[0m                                 Traceback (most recent call last)",
      "Cell \u001b[1;32mIn[10], line 22\u001b[0m\n\u001b[0;32m     19\u001b[0m         \u001b[38;5;28mprint\u001b[39m(Stock[\u001b[38;5;28mself\u001b[39m\u001b[38;5;241m.\u001b[39mEid])\n\u001b[0;32m     20\u001b[0m         Stock\u001b[38;5;241m.\u001b[39mpop(\u001b[38;5;28mself\u001b[39m\u001b[38;5;241m.\u001b[39mEid)\n\u001b[1;32m---> 22\u001b[0m temp\u001b[38;5;241m=\u001b[39mEQIP(\u001b[43mEid\u001b[49m)\n\u001b[0;32m     23\u001b[0m temp\u001b[38;5;241m.\u001b[39mAdd_item()\n\u001b[0;32m     25\u001b[0m Stock\n",
      "\u001b[1;31mNameError\u001b[0m: name 'Eid' is not defined"
     ]
    }
   ],
   "source": [
    "class EQIP:   \n",
    "    def __init__(self):\n",
    "        self.Eid\n",
    "        self.Ename\n",
    "        self.Ebrand\n",
    "        self.ETqty\n",
    "        self.EAqty\n",
    "\n",
    "    def Add_item(self):\n",
    "        self.Eid=int(input(\"Enter the Equipment Id: \"))\n",
    "        self.Ename=input(\"Enter the Equipment Name: \")\n",
    "        self.Ebrand=input(\"Enter the Equipment Brand: \")\n",
    "        self.ETqty=int(input(\"Enter the Equipment Total Qunatity: \"))\n",
    "        self.EAqty=int(input(\"Enter the Equipment Available Quantity: \"))\n",
    "        Stock[Eid]=list([self.Ename, self.Ebrand, self.ETqty, self.EAqty])\n",
    "\n",
    "    def Remove_item(self):\n",
    "        self.Eid=int(input(\"Enetr the equipment Id to remove: \"))\n",
    "        print(Stock[self.Eid])\n",
    "        Stock.pop(self.Eid)\n",
    "\n",
    "    def Update_Item\n",
    "\n",
    "temp=EQIP(Eid)\n",
    "temp.Add_item()\n",
    "\n",
    "class Record:\n",
    "    def __init__(self):\n",
    "        self.name=\"\"\n",
    "        self.ID=0\n",
    "        self.Eid=0\n",
    "        self.Ename=\"\"\n",
    "        self.status=\"\"\n",
    "        self.condition=\"\"\n",
    "\n",
    "    def rent_Equip(self):\n",
    "        self.name=input(\"Enter your name: \")\n",
    "        self.ID=int(input(\"Enter your ID: \"))\n",
    "        self.Eid=int(input(\"Enter equipment ID pf the item you are renting: \"))\n",
    "        self.Ename=Stock[self.Eid][0]\n",
    "        self.status=\"Rented\"\n",
    "        self.Condition=\"Good\"\n",
    "        Records[self.ID]=list([self.name, self.Eid, self.Ename, self.status, self.Condition])\n",
    "\n",
    "    def return_Equip(self):\n",
    "        "
   ]
  },
  {
   "cell_type": "code",
   "execution_count": 14,
   "id": "d2a3e69c-0bf7-4bc2-ae61-d9d07cf63d9e",
   "metadata": {},
   "outputs": [
    {
     "ename": "ModuleNotFoundError",
     "evalue": "No module named 'matplotlib'",
     "output_type": "error",
     "traceback": [
      "\u001b[1;31m---------------------------------------------------------------------------\u001b[0m",
      "\u001b[1;31mModuleNotFoundError\u001b[0m                       Traceback (most recent call last)",
      "Cell \u001b[1;32mIn[14], line 3\u001b[0m\n\u001b[0;32m      1\u001b[0m \u001b[38;5;28;01mimport\u001b[39;00m \u001b[38;5;21;01mnumpy\u001b[39;00m \u001b[38;5;28;01mas\u001b[39;00m \u001b[38;5;21;01mnp\u001b[39;00m\n\u001b[0;32m      2\u001b[0m \u001b[38;5;28;01mimport\u001b[39;00m \u001b[38;5;21;01mpandas\u001b[39;00m \u001b[38;5;28;01mas\u001b[39;00m \u001b[38;5;21;01mpd\u001b[39;00m\n\u001b[1;32m----> 3\u001b[0m \u001b[38;5;28;01mfrom\u001b[39;00m \u001b[38;5;21;01mmatplotlib\u001b[39;00m \u001b[38;5;28;01mimport\u001b[39;00m pyplot \u001b[38;5;28;01mas\u001b[39;00m plt\n\u001b[0;32m      5\u001b[0m plt\u001b[38;5;241m.\u001b[39mfigure(figsize\u001b[38;5;241m=\u001b[39m(\u001b[38;5;241m10\u001b[39m,\u001b[38;5;241m5\u001b[39m))\n\u001b[0;32m      6\u001b[0m plt\u001b[38;5;241m.\u001b[39mbar(temp[\u001b[38;5;124m'\u001b[39m\u001b[38;5;124mName\u001b[39m\u001b[38;5;124m'\u001b[39m], [\u001b[38;5;124m'\u001b[39m\u001b[38;5;124mEnglish\u001b[39m\u001b[38;5;124m'\u001b[39m], label\u001b[38;5;241m=\u001b[39m\u001b[38;5;124m\"\u001b[39m\u001b[38;5;124mEnglish\u001b[39m\u001b[38;5;124m\"\u001b[39m)\n",
      "\u001b[1;31mModuleNotFoundError\u001b[0m: No module named 'matplotlib'"
     ]
    }
   ],
   "source": [
    "import numpy as np\n",
    "import pandas as pd\n",
    "from matplotlib import pyplot as plt\n",
    "\n",
    "plt.figure(figsize=(10,5))\n",
    "plt.bar(temp['Name'], ['English'], label=\"English\")\n"
   ]
  },
  {
   "cell_type": "code",
   "execution_count": null,
   "id": "78196650-4b55-46fe-ba78-f830489d3797",
   "metadata": {},
   "outputs": [],
   "source": [
    "data"
   ]
  }
 ],
 "metadata": {
  "kernelspec": {
   "display_name": "Python 3 (ipykernel)",
   "language": "python",
   "name": "python3"
  },
  "language_info": {
   "codemirror_mode": {
    "name": "ipython",
    "version": 3
   },
   "file_extension": ".py",
   "mimetype": "text/x-python",
   "name": "python",
   "nbconvert_exporter": "python",
   "pygments_lexer": "ipython3",
   "version": "3.11.5"
  }
 },
 "nbformat": 4,
 "nbformat_minor": 5
}
