{
 "cells": [
  {
   "cell_type": "code",
   "execution_count": 1,
   "id": "1abb8d2f-c572-4610-b4ac-0f4e62d57396",
   "metadata": {},
   "outputs": [
    {
     "data": {
      "text/plain": [
       "[1, 2, 3, 4, 5]"
      ]
     },
     "execution_count": 1,
     "metadata": {},
     "output_type": "execute_result"
    }
   ],
   "source": [
    "L=[1,2,3,4,5]\n",
    "L"
   ]
  },
  {
   "cell_type": "code",
   "execution_count": 4,
   "id": "49190d72-85d0-4631-b645-480dc1ef633b",
   "metadata": {},
   "outputs": [
    {
     "name": "stdout",
     "output_type": "stream",
     "text": [
      "Hello World\n",
      "[1, 2, 3, 4, 5]\n",
      "4\n",
      "Invalid index\n",
      "end of code\n"
     ]
    }
   ],
   "source": [
    "print(\"Hello World\")\n",
    "print(L)\n",
    "print(L[3])\n",
    "try:\n",
    "    print(L[7])\n",
    "except:\n",
    "    print(\"Invalid index\")\n",
    "\n",
    "print(\"end of code\")"
   ]
  },
  {
   "cell_type": "code",
   "execution_count": 10,
   "id": "7823ad7d-5b6f-46c3-b08f-ba0de4e24e02",
   "metadata": {},
   "outputs": [
    {
     "name": "stdout",
     "output_type": "stream",
     "text": [
      "B can't be zero\n",
      "End of code\n"
     ]
    }
   ],
   "source": [
    "a=10\n",
    "b=0\n",
    "try:\n",
    "    print(a/b)\n",
    "except:\n",
    "    print(\"B can't be zero\")\n",
    "finally:   #It will run at any cost\n",
    "    print(\"End of code\")"
   ]
  },
  {
   "cell_type": "code",
   "execution_count": 17,
   "id": "ec622e46-b0f6-4942-a83b-55771d882930",
   "metadata": {},
   "outputs": [
    {
     "name": "stdout",
     "output_type": "stream",
     "text": [
      "2.0\n",
      "Trying to fetch non existing data\n",
      "End of code\n"
     ]
    }
   ],
   "source": [
    "#multiple exception handling\n",
    "a=10\n",
    "b=5\n",
    "try:\n",
    "    print(a/b)\n",
    "    L[50]\n",
    "except ZeroDivisionError:\n",
    "    print(\"B can't be zero\")\n",
    "except NameError:\n",
    "    print(\"Unknown Identifier\")\n",
    "except IndexError:\n",
    "    print(\"Trying to fetch non existing data\")\n",
    "finally:\n",
    "    print(\"End of code\")"
   ]
  },
  {
   "cell_type": "code",
   "execution_count": 33,
   "id": "451ef086-1fa8-49fa-8aeb-e23d7e2daa22",
   "metadata": {},
   "outputs": [
    {
     "name": "stdin",
     "output_type": "stream",
     "text": [
      "Enter the ending limit:  6\n",
      " 1\n",
      " 2\n",
      " 3\n",
      " 7\n",
      " 99\n",
      " 4\n"
     ]
    },
    {
     "name": "stdout",
     "output_type": "stream",
     "text": [
      "[1, 2, 3, 7, 99, 4]\n"
     ]
    }
   ],
   "source": [
    "#Practice.....\n",
    "Li=[]\n",
    "endLimit=int(input(\"Enter the ending limit: \"))\n",
    "for i in range(0, endLimit):\n",
    "    x=int(input())\n",
    "    Li.append(x)\n",
    "print(Li)"
   ]
  },
  {
   "cell_type": "code",
   "execution_count": null,
   "id": "d4080f69-cf3f-4137-837b-97e4aa0dec91",
   "metadata": {},
   "outputs": [],
   "source": []
  }
 ],
 "metadata": {
  "kernelspec": {
   "display_name": "Python 3 (ipykernel)",
   "language": "python",
   "name": "python3"
  },
  "language_info": {
   "codemirror_mode": {
    "name": "ipython",
    "version": 3
   },
   "file_extension": ".py",
   "mimetype": "text/x-python",
   "name": "python",
   "nbconvert_exporter": "python",
   "pygments_lexer": "ipython3",
   "version": "3.11.5"
  }
 },
 "nbformat": 4,
 "nbformat_minor": 5
}
